{
  "nbformat": 4,
  "nbformat_minor": 0,
  "metadata": {
    "colab": {
      "name": "task10.ipynb",
      "provenance": [],
      "collapsed_sections": []
    },
    "kernelspec": {
      "name": "python3",
      "display_name": "Python 3"
    }
  },
  "cells": [
    {
      "cell_type": "code",
      "metadata": {
        "colab": {
          "base_uri": "https://localhost:8080/"
        },
        "id": "eJx3W55COYMZ",
        "outputId": "dc4e10c9-0279-47f3-c26e-a8795b52b902"
      },
      "source": [
        "n = 10\r\n",
        "while(n>=1):\r\n",
        "  print(n)\r\n",
        "  n-=1\r\n"
      ],
      "execution_count": 3,
      "outputs": [
        {
          "output_type": "stream",
          "text": [
            "10\n",
            "9\n",
            "8\n",
            "7\n",
            "6\n",
            "5\n",
            "4\n",
            "3\n",
            "2\n",
            "1\n"
          ],
          "name": "stdout"
        }
      ]
    },
    {
      "cell_type": "code",
      "metadata": {
        "colab": {
          "base_uri": "https://localhost:8080/"
        },
        "id": "GIse5D46P0Ut",
        "outputId": "1882d5a2-4f7c-47cb-a8c5-22f3a1557333"
      },
      "source": [
        "x = 1\r\n",
        "while(x<16):\r\n",
        "  x +=1\r\n",
        "  if(x%3==0):\r\n",
        "    continue\r\n",
        "  print(x)"
      ],
      "execution_count": 4,
      "outputs": [
        {
          "output_type": "stream",
          "text": [
            "2\n",
            "4\n",
            "5\n",
            "7\n",
            "8\n",
            "10\n",
            "11\n",
            "13\n",
            "14\n",
            "16\n"
          ],
          "name": "stdout"
        }
      ]
    },
    {
      "cell_type": "code",
      "metadata": {
        "colab": {
          "base_uri": "https://localhost:8080/"
        },
        "id": "6T8fEPuGS5Yc",
        "outputId": "e53e121c-252c-4fb9-f9d9-e0390ce63937"
      },
      "source": [
        "for letter in \"vishnu\":\r\n",
        "  if letter == \"h\":\r\n",
        "    pass\r\n",
        "    print(\"letter h doesnt want\")\r\n",
        "  print(\"this letter is:\",letter)\r\n",
        "  "
      ],
      "execution_count": 5,
      "outputs": [
        {
          "output_type": "stream",
          "text": [
            "this letter is: v\n",
            "this letter is: i\n",
            "this letter is: s\n",
            "letter h doesnt want\n",
            "this letter is: h\n",
            "this letter is: n\n",
            "this letter is: u\n"
          ],
          "name": "stdout"
        }
      ]
    }
  ]
}