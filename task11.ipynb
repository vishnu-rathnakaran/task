{
 "cells": [
  {
   "cell_type": "markdown",
   "metadata": {},
   "source": [
    "#\n",
    "Return function\n",
    "\n"
   ]
  },
  {
   "cell_type": "code",
   "execution_count": 2,
   "metadata": {},
   "outputs": [
    {
     "name": "stdout",
     "output_type": "stream",
     "text": [
      "vishnu\n",
      "29\n"
     ]
    }
   ],
   "source": [
    "def profile():\n",
    "    name = \"vishnu\"\n",
    "    age = 29\n",
    "    return(name,age)\n",
    "student_data = profile()\n",
    "print(student_data[0])\n",
    "print(student_data[1])"
   ]
  },
  {
   "cell_type": "code",
   "execution_count": 4,
   "metadata": {},
   "outputs": [
    {
     "name": "stdout",
     "output_type": "stream",
     "text": [
      "select the choice 1/2/3/4:2\n",
      "enter the first number:10\n",
      "enter the second number:20\n",
      "10.0 - 20.0 = -10.0\n"
     ]
    }
   ],
   "source": [
    "def add(x,y):\n",
    "    return(x + y)\n",
    "def substract(x,y):\n",
    "    return(x - y)\n",
    "def multiple(x,y):\n",
    "    return(x*y)\n",
    "def divide(x,y):\n",
    "    return(x/y)\n",
    "while True:\n",
    "    choice = input(\"select the choice 1/2/3/4:\") \n",
    "    if choice in (\"1\",\"2\",\"3\",\"4\"):\n",
    "        num1 = float(input(\"enter the first number:\"))\n",
    "        num2 = float(input(\"enter the second number:\"))\n",
    "        if choice ==\"1\":\n",
    "            print(num1 ,\"+\",num2,\"=\",add(num1,num2))\n",
    "        elif choice == \"2\":\n",
    "            print(num1 ,\"-\",num2,\"=\",substract(num1,num2))\n",
    "        elif choice == \"3\":\n",
    "            print(num1 ,\"*\",num2,\"=\",multiple(num1,num2))\n",
    "        elif choice == \"4\":\n",
    "            print(num1 ,\"/\",num2,\"=\",divide(num1,num2))\n",
    "        break\n",
    "    else:\n",
    "        print(\"invalid input\")"
   ]
  },
  {
   "cell_type": "code",
   "execution_count": null,
   "metadata": {},
   "outputs": [],
   "source": []
  },
  {
   "cell_type": "code",
   "execution_count": null,
   "metadata": {},
   "outputs": [],
   "source": []
  }
 ],
 "metadata": {
  "kernelspec": {
   "display_name": "Python 3",
   "language": "python",
   "name": "python3"
  }
 },
 "nbformat": 4,
 "nbformat_minor": 4
}
